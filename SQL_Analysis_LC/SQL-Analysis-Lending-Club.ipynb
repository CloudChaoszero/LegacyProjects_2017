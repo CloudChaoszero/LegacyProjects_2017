{
 "cells": [
  {
   "cell_type": "markdown",
   "metadata": {},
   "source": [
    "# Lending Club\n",
    "___\n",
    "\n",
    "** Introduction**\n",
    "\n",
    "We will use 2007-2011'ish Lending Club loan data to exemplify our abilities in:\n",
    "\n",
    "- SQL querying\n",
    "\n",
    "- Fintech (Finance)\n",
    "\n",
    "- Analysis\n",
    "\n",
    "[Lending Club](https://www.lendingclub.com/) is headquarted in San Francisco, Ca. It was the first peer-to-peer lender to register its offerings as securities with the Securities and Exchange Commission (SEC), and to offer loan trading on a secondary market. Lending Club operates an online lending platform that enables borrowers to obtain a loan, and investors to purchase notes backed by payments made on loans. Lending Club is the world's largest peer-to-peer lending platform\n",
    "\n",
    "**Dedication**\n",
    "\n",
    "I dedicate this to every day that I am not able to implement my abilities to better aid company issues, through data.\n",
    "\n",
    "Though,\n",
    "\n",
    "_\"It is not the mountain we conquer but ourselves.\"_\n",
    "\n",
    "_\\- Sir Edmund Hillary_\n",
    "\n",
    "___\n",
    "\n",
    "![LC Logo]('Images/LC.jpeg')"
   ]
  },
  {
   "cell_type": "markdown",
   "metadata": {},
   "source": [
    "## Imports"
   ]
  },
  {
   "cell_type": "code",
   "execution_count": 147,
   "metadata": {},
   "outputs": [],
   "source": [
    "import sqlite3 as sql #SQL Library for Python\n",
    "\n",
    "import pandas as pd #Create dataframe structure\n",
    "                    #Also utilized take dataframe to sql\n",
    "import pprint"
   ]
  },
  {
   "cell_type": "code",
   "execution_count": 83,
   "metadata": {},
   "outputs": [
    {
     "name": "stderr",
     "output_type": "stream",
     "text": [
      "C:\\Anaconda3\\lib\\site-packages\\IPython\\core\\interactiveshell.py:2683: DtypeWarning: Columns (0,47) have mixed types. Specify dtype option on import or set low_memory=False.\n",
      "  interactivity=interactivity, compiler=compiler, result=result)\n"
     ]
    }
   ],
   "source": [
    "loan_data = pd.read_csv('Data/LoanStats3a.csv.zip', compression= 'zip', skiprows=1)\n",
    "reject_data = pd.read_csv('Data/RejectStatsA.csv.zip',compression='zip', skiprows = 1)"
   ]
  },
  {
   "cell_type": "markdown",
   "metadata": {},
   "source": [
    "## Query Analysis\n",
    "\n",
    "We Establish a connection with the lc_loans database. From creating this database, we conveniently convert the pandas dataframe to a sql table.\n",
    "\n",
    "> Wait, what's the point of querying in SQL when we can filter through the pandas dataframe?\n",
    "\n",
    "> This project is SQL driven. I provide the opportunity for the reader to be exposed in importing the data, and then somehow pushing that data to a database. Moreover, the reader has the opportunity to query within Python, using SQLite! \n",
    "\n",
    "> There are several other methods to do this, but this is the most convenient, under my own time constraints."
   ]
  },
  {
   "cell_type": "code",
   "execution_count": 88,
   "metadata": {
    "collapsed": true
   },
   "outputs": [],
   "source": [
    "conn = sql.connect('DataBase/lc_loans.db') #Establish connection to database"
   ]
  },
  {
   "cell_type": "code",
   "execution_count": 89,
   "metadata": {
    "collapsed": true
   },
   "outputs": [],
   "source": [
    "c = conn.cursor() #pointer/cursor utilized in database to obtain information"
   ]
  },
  {
   "cell_type": "markdown",
   "metadata": {},
   "source": [
    "### Loan Data\n",
    "\n",
    "Questions:\n",
    "\n",
    "1. What is the average interest rate, payment, and loan given by:\n",
    "    a. Zipcode?\n",
    "    \n",
    "    b. Purpose?\n",
    "    \n",
    "    c. State?\n",
    "    \n",
    "    d. Annual Income?\n",
    "\n",
    "2. What's a common type of payment plan?\n",
    "\n",
    "3. If a person is delinquent, do they have some window of opportunity to get second loan?\n",
    "\n",
    "4. How do Lending Club borrowers usually apply?\n",
    "\n",
    "5. At what rate do Lending Club borrowers pay back loans?\n",
    "\n",
    "6. If a person was a part of the collection cycle, what is:\n",
    "    a. Their average payment of collection fees?\n",
    "    \n",
    "    b. the recovered amount with respect to the total loan?\n",
    "    \n",
    "    c. the percentage that would be a chargeoff case?\n",
    "7. Has a  borrower once been rejected, but then a"
   ]
  },
  {
   "cell_type": "code",
   "execution_count": 90,
   "metadata": {
    "collapsed": true
   },
   "outputs": [],
   "source": [
    "loan_data.to_sql(name = \"loans\",con = conn)"
   ]
  },
  {
   "cell_type": "code",
   "execution_count": 145,
   "metadata": {},
   "outputs": [
    {
     "name": "stdout",
     "output_type": "stream",
     "text": [
      "[(0, 'index', 'INTEGER', 0, None, 0), (1, 'id', 'TEXT', 0, None, 0), (2, 'member_id', 'REAL', 0, None, 0), (3, 'loan_amnt', 'REAL', 0, None, 0), (4, 'funded_amnt', 'REAL', 0, None, 0), (5, 'funded_amnt_inv', 'REAL', 0, None, 0), (6, 'term', 'TEXT', 0, None, 0), (7, 'int_rate', 'TEXT', 0, None, 0), (8, 'installment', 'REAL', 0, None, 0), (9, 'grade', 'TEXT', 0, None, 0), (10, 'sub_grade', 'TEXT', 0, None, 0), (11, 'emp_title', 'TEXT', 0, None, 0), (12, 'emp_length', 'TEXT', 0, None, 0), (13, 'home_ownership', 'TEXT', 0, None, 0), (14, 'annual_inc', 'REAL', 0, None, 0), (15, 'verification_status', 'TEXT', 0, None, 0), (16, 'issue_d', 'TEXT', 0, None, 0), (17, 'loan_status', 'TEXT', 0, None, 0), (18, 'pymnt_plan', 'TEXT', 0, None, 0), (19, 'url', 'REAL', 0, None, 0), (20, 'desc', 'TEXT', 0, None, 0), (21, 'purpose', 'TEXT', 0, None, 0), (22, 'title', 'TEXT', 0, None, 0), (23, 'zip_code', 'TEXT', 0, None, 0), (24, 'addr_state', 'TEXT', 0, None, 0), (25, 'dti', 'REAL', 0, None, 0), (26, 'delinq_2yrs', 'REAL', 0, None, 0), (27, 'earliest_cr_line', 'TEXT', 0, None, 0), (28, 'inq_last_6mths', 'REAL', 0, None, 0), (29, 'mths_since_last_delinq', 'REAL', 0, None, 0), (30, 'mths_since_last_record', 'REAL', 0, None, 0), (31, 'open_acc', 'REAL', 0, None, 0), (32, 'pub_rec', 'REAL', 0, None, 0), (33, 'revol_bal', 'REAL', 0, None, 0), (34, 'revol_util', 'TEXT', 0, None, 0), (35, 'total_acc', 'REAL', 0, None, 0), (36, 'initial_list_status', 'TEXT', 0, None, 0), (37, 'out_prncp', 'REAL', 0, None, 0), (38, 'out_prncp_inv', 'REAL', 0, None, 0), (39, 'total_pymnt', 'REAL', 0, None, 0), (40, 'total_pymnt_inv', 'REAL', 0, None, 0), (41, 'total_rec_prncp', 'REAL', 0, None, 0), (42, 'total_rec_int', 'REAL', 0, None, 0), (43, 'total_rec_late_fee', 'REAL', 0, None, 0), (44, 'recoveries', 'REAL', 0, None, 0), (45, 'collection_recovery_fee', 'REAL', 0, None, 0), (46, 'last_pymnt_d', 'TEXT', 0, None, 0), (47, 'last_pymnt_amnt', 'REAL', 0, None, 0), (48, 'next_pymnt_d', 'TEXT', 0, None, 0), (49, 'last_credit_pull_d', 'TEXT', 0, None, 0), (50, 'collections_12_mths_ex_med', 'REAL', 0, None, 0), (51, 'mths_since_last_major_derog', 'REAL', 0, None, 0), (52, 'policy_code', 'REAL', 0, None, 0), (53, 'application_type', 'TEXT', 0, None, 0), (54, 'annual_inc_joint', 'REAL', 0, None, 0), (55, 'dti_joint', 'REAL', 0, None, 0), (56, 'verification_status_joint', 'REAL', 0, None, 0), (57, 'acc_now_delinq', 'REAL', 0, None, 0), (58, 'tot_coll_amt', 'REAL', 0, None, 0), (59, 'tot_cur_bal', 'REAL', 0, None, 0), (60, 'open_acc_6m', 'REAL', 0, None, 0), (61, 'open_il_6m', 'REAL', 0, None, 0), (62, 'open_il_12m', 'REAL', 0, None, 0), (63, 'open_il_24m', 'REAL', 0, None, 0), (64, 'mths_since_rcnt_il', 'REAL', 0, None, 0), (65, 'total_bal_il', 'REAL', 0, None, 0), (66, 'il_util', 'REAL', 0, None, 0), (67, 'open_rv_12m', 'REAL', 0, None, 0), (68, 'open_rv_24m', 'REAL', 0, None, 0), (69, 'max_bal_bc', 'REAL', 0, None, 0), (70, 'all_util', 'REAL', 0, None, 0), (71, 'total_rev_hi_lim', 'REAL', 0, None, 0), (72, 'inq_fi', 'REAL', 0, None, 0), (73, 'total_cu_tl', 'REAL', 0, None, 0), (74, 'inq_last_12m', 'REAL', 0, None, 0), (75, 'acc_open_past_24mths', 'REAL', 0, None, 0), (76, 'avg_cur_bal', 'REAL', 0, None, 0), (77, 'bc_open_to_buy', 'REAL', 0, None, 0), (78, 'bc_util', 'REAL', 0, None, 0), (79, 'chargeoff_within_12_mths', 'REAL', 0, None, 0), (80, 'delinq_amnt', 'REAL', 0, None, 0), (81, 'mo_sin_old_il_acct', 'REAL', 0, None, 0), (82, 'mo_sin_old_rev_tl_op', 'REAL', 0, None, 0), (83, 'mo_sin_rcnt_rev_tl_op', 'REAL', 0, None, 0), (84, 'mo_sin_rcnt_tl', 'REAL', 0, None, 0), (85, 'mort_acc', 'REAL', 0, None, 0), (86, 'mths_since_recent_bc', 'REAL', 0, None, 0), (87, 'mths_since_recent_bc_dlq', 'REAL', 0, None, 0), (88, 'mths_since_recent_inq', 'REAL', 0, None, 0), (89, 'mths_since_recent_revol_delinq', 'REAL', 0, None, 0), (90, 'num_accts_ever_120_pd', 'REAL', 0, None, 0), (91, 'num_actv_bc_tl', 'REAL', 0, None, 0), (92, 'num_actv_rev_tl', 'REAL', 0, None, 0), (93, 'num_bc_sats', 'REAL', 0, None, 0), (94, 'num_bc_tl', 'REAL', 0, None, 0), (95, 'num_il_tl', 'REAL', 0, None, 0), (96, 'num_op_rev_tl', 'REAL', 0, None, 0), (97, 'num_rev_accts', 'REAL', 0, None, 0), (98, 'num_rev_tl_bal_gt_0', 'REAL', 0, None, 0), (99, 'num_sats', 'REAL', 0, None, 0), (100, 'num_tl_120dpd_2m', 'REAL', 0, None, 0), (101, 'num_tl_30dpd', 'REAL', 0, None, 0), (102, 'num_tl_90g_dpd_24m', 'REAL', 0, None, 0), (103, 'num_tl_op_past_12m', 'REAL', 0, None, 0), (104, 'pct_tl_nvr_dlq', 'REAL', 0, None, 0), (105, 'percent_bc_gt_75', 'REAL', 0, None, 0), (106, 'pub_rec_bankruptcies', 'REAL', 0, None, 0), (107, 'tax_liens', 'REAL', 0, None, 0), (108, 'tot_hi_cred_lim', 'REAL', 0, None, 0), (109, 'total_bal_ex_mort', 'REAL', 0, None, 0), (110, 'total_bc_limit', 'REAL', 0, None, 0), (111, 'total_il_high_credit_limit', 'REAL', 0, None, 0), (112, 'revol_bal_joint', 'REAL', 0, None, 0), (113, 'sec_app_earliest_cr_line', 'REAL', 0, None, 0), (114, 'sec_app_inq_last_6mths', 'REAL', 0, None, 0), (115, 'sec_app_mort_acc', 'REAL', 0, None, 0), (116, 'sec_app_open_acc', 'REAL', 0, None, 0), (117, 'sec_app_revol_util', 'REAL', 0, None, 0), (118, 'sec_app_open_il_6m', 'REAL', 0, None, 0), (119, 'sec_app_num_rev_accts', 'REAL', 0, None, 0), (120, 'sec_app_chargeoff_within_12_mths', 'REAL', 0, None, 0), (121, 'sec_app_collections_12_mths_ex_med', 'REAL', 0, None, 0), (122, 'sec_app_mths_since_last_major_derog', 'REAL', 0, None, 0)]\n"
     ]
    }
   ],
   "source": [
    "query_loans_pragma = 'PRAGMA table_info(loans)'\n",
    "c.execute(query_loans_pragma)\n",
    "rows = c.fetchall()\n",
    "print(rows)"
   ]
  },
  {
   "cell_type": "code",
   "execution_count": 86,
   "metadata": {
    "scrolled": true
   },
   "outputs": [
    {
     "data": {
      "text/plain": [
       "['id',\n",
       " 'member_id',\n",
       " 'loan_amnt',\n",
       " 'funded_amnt',\n",
       " 'funded_amnt_inv',\n",
       " 'term',\n",
       " 'int_rate',\n",
       " 'installment',\n",
       " 'grade',\n",
       " 'sub_grade',\n",
       " 'emp_title',\n",
       " 'emp_length',\n",
       " 'home_ownership',\n",
       " 'annual_inc',\n",
       " 'verification_status',\n",
       " 'issue_d',\n",
       " 'loan_status',\n",
       " 'pymnt_plan',\n",
       " 'url',\n",
       " 'desc',\n",
       " 'purpose',\n",
       " 'title',\n",
       " 'zip_code',\n",
       " 'addr_state',\n",
       " 'dti',\n",
       " 'delinq_2yrs',\n",
       " 'earliest_cr_line',\n",
       " 'inq_last_6mths',\n",
       " 'mths_since_last_delinq',\n",
       " 'mths_since_last_record',\n",
       " 'open_acc',\n",
       " 'pub_rec',\n",
       " 'revol_bal',\n",
       " 'revol_util',\n",
       " 'total_acc',\n",
       " 'initial_list_status',\n",
       " 'out_prncp',\n",
       " 'out_prncp_inv',\n",
       " 'total_pymnt',\n",
       " 'total_pymnt_inv',\n",
       " 'total_rec_prncp',\n",
       " 'total_rec_int',\n",
       " 'total_rec_late_fee',\n",
       " 'recoveries',\n",
       " 'collection_recovery_fee',\n",
       " 'last_pymnt_d',\n",
       " 'last_pymnt_amnt',\n",
       " 'next_pymnt_d',\n",
       " 'last_credit_pull_d',\n",
       " 'collections_12_mths_ex_med',\n",
       " 'mths_since_last_major_derog',\n",
       " 'policy_code',\n",
       " 'application_type',\n",
       " 'annual_inc_joint',\n",
       " 'dti_joint',\n",
       " 'verification_status_joint',\n",
       " 'acc_now_delinq',\n",
       " 'tot_coll_amt',\n",
       " 'tot_cur_bal',\n",
       " 'open_acc_6m',\n",
       " 'open_il_6m',\n",
       " 'open_il_12m',\n",
       " 'open_il_24m',\n",
       " 'mths_since_rcnt_il',\n",
       " 'total_bal_il',\n",
       " 'il_util',\n",
       " 'open_rv_12m',\n",
       " 'open_rv_24m',\n",
       " 'max_bal_bc',\n",
       " 'all_util',\n",
       " 'total_rev_hi_lim',\n",
       " 'inq_fi',\n",
       " 'total_cu_tl',\n",
       " 'inq_last_12m',\n",
       " 'acc_open_past_24mths',\n",
       " 'avg_cur_bal',\n",
       " 'bc_open_to_buy',\n",
       " 'bc_util',\n",
       " 'chargeoff_within_12_mths',\n",
       " 'delinq_amnt',\n",
       " 'mo_sin_old_il_acct',\n",
       " 'mo_sin_old_rev_tl_op',\n",
       " 'mo_sin_rcnt_rev_tl_op',\n",
       " 'mo_sin_rcnt_tl',\n",
       " 'mort_acc',\n",
       " 'mths_since_recent_bc',\n",
       " 'mths_since_recent_bc_dlq',\n",
       " 'mths_since_recent_inq',\n",
       " 'mths_since_recent_revol_delinq',\n",
       " 'num_accts_ever_120_pd',\n",
       " 'num_actv_bc_tl',\n",
       " 'num_actv_rev_tl',\n",
       " 'num_bc_sats',\n",
       " 'num_bc_tl',\n",
       " 'num_il_tl',\n",
       " 'num_op_rev_tl',\n",
       " 'num_rev_accts',\n",
       " 'num_rev_tl_bal_gt_0',\n",
       " 'num_sats',\n",
       " 'num_tl_120dpd_2m',\n",
       " 'num_tl_30dpd',\n",
       " 'num_tl_90g_dpd_24m',\n",
       " 'num_tl_op_past_12m',\n",
       " 'pct_tl_nvr_dlq',\n",
       " 'percent_bc_gt_75',\n",
       " 'pub_rec_bankruptcies',\n",
       " 'tax_liens',\n",
       " 'tot_hi_cred_lim',\n",
       " 'total_bal_ex_mort',\n",
       " 'total_bc_limit',\n",
       " 'total_il_high_credit_limit',\n",
       " 'revol_bal_joint',\n",
       " 'sec_app_earliest_cr_line',\n",
       " 'sec_app_inq_last_6mths',\n",
       " 'sec_app_mort_acc',\n",
       " 'sec_app_open_acc',\n",
       " 'sec_app_revol_util',\n",
       " 'sec_app_open_il_6m',\n",
       " 'sec_app_num_rev_accts',\n",
       " 'sec_app_chargeoff_within_12_mths',\n",
       " 'sec_app_collections_12_mths_ex_med',\n",
       " 'sec_app_mths_since_last_major_derog']"
      ]
     },
     "execution_count": 86,
     "metadata": {},
     "output_type": "execute_result"
    }
   ],
   "source": [
    "loan_cols = list(loan_data.columns)\n",
    "loan_cols"
   ]
  },
  {
   "cell_type": "code",
   "execution_count": 161,
   "metadata": {},
   "outputs": [
    {
     "name": "stdout",
     "output_type": "stream",
     "text": [
      "[(None, 5000.0, 5000.0, ' 10.65%', 'credit_card'),\n",
      " (None, 2500.0, 2500.0, ' 15.27%', 'car'),\n",
      " (None, 2400.0, 2400.0, ' 15.96%', 'small_business'),\n",
      " (None, 10000.0, 10000.0, ' 13.49%', 'other'),\n",
      " (None, 3000.0, 3000.0, ' 12.69%', 'other'),\n",
      " (None, 5000.0, 5000.0, '  7.90%', 'wedding'),\n",
      " (None, 7000.0, 7000.0, ' 15.96%', 'debt_consolidation'),\n",
      " (None, 3000.0, 3000.0, ' 18.64%', 'car'),\n",
      " (None, 5600.0, 5600.0, ' 21.28%', 'small_business'),\n",
      " (None, 5375.0, 5375.0, ' 12.69%', 'other')]\n"
     ]
    }
   ],
   "source": [
    "query = 'SELECT id, loan_amnt, funded_amnt, int_rate, purpose FROM loans LIMIT 10;'\n",
    "c.execute(query)\n",
    "rows = c.fetchall()\n",
    "pprint.pprint(rows)"
   ]
  },
  {
   "cell_type": "code",
   "execution_count": 162,
   "metadata": {},
   "outputs": [
    {
     "name": "stdout",
     "output_type": "stream",
     "text": [
      "[(None, None, None, None),\n",
      " (6760.3250773993805, 6699.195046439629, 10.651640866873032, 'car'),\n",
      " (11614.935183494614, 11335.311301807558, 11.84249406609478, 'credit_card'),\n",
      " (12559.509000809061,\n",
      "  12256.664644012944,\n",
      "  12.606084648058543,\n",
      "  'debt_consolidation'),\n",
      " (6626.54028436019, 6523.163507109005, 12.121540284360204, 'educational'),\n",
      " (11394.10753360425,\n",
      "  11080.751797436698,\n",
      "  11.596120662707088,\n",
      "  'home_improvement'),\n",
      " (12583.62676056338, 12260.269953051644, 12.411408450704217, 'house'),\n",
      " (8081.4041540458675, 7901.5577672003465, 11.013500649069677, 'major_purchase'),\n",
      " (8150.265604249668, 7991.334661354582, 11.683519256308063, 'medical'),\n",
      " (6594.912559618442, 6462.1621621621625, 11.752782193958632, 'moving'),\n",
      " (7939.299435028249, 7766.531073446327, 11.98596384180794, 'other'),\n",
      " (8630.896226415094, 8428.537735849057, 11.527924528301885, 'renewable_energy'),\n",
      " (13660.178212851406, 13136.244979919678, 13.159492971887573, 'small_business'),\n",
      " (5435.6875, 5355.8125, 10.951674999999998, 'vacation'),\n",
      " (9752.689243027888, 9631.424302788844, 12.033974103585608, 'wedding')]\n"
     ]
    }
   ],
   "source": [
    "query = 'SELECT AVG(loan_amnt), AVG(funded_amnt), AVG(int_rate), purpose FROM loans GROUP BY  purpose;'\n",
    "c.execute(query)\n",
    "rows = c.fetchall()\n",
    "pprint.pprint(rows)"
   ]
  },
  {
   "cell_type": "code",
   "execution_count": 170,
   "metadata": {},
   "outputs": [
    {
     "name": "stdout",
     "output_type": "stream",
     "text": [
      "[(None, None, None, None),\n",
      " (18000.0, 18000.0, 10.62, '007xx'),\n",
      " (9929.481132075472, 9744.103773584906, 10.970660377358493, '010xx'),\n",
      " (10952.941176470587, 10952.941176470587, 13.088823529411764, '011xx'),\n",
      " (15068.75, 15068.75, 11.3425, '012xx'),\n",
      " (10589.285714285714, 9873.214285714286, 11.565714285714288, '013xx'),\n",
      " (10952.083333333334, 10259.722222222223, 11.827499999999999, '014xx'),\n",
      " (14139.39393939394, 13758.712121212122, 12.442121212121219, '015xx'),\n",
      " (11488.461538461539, 11488.461538461539, 12.799999999999999, '016xx'),\n",
      " (11657.831325301206, 11404.819277108434, 12.021807228915664, '017xx')]\n"
     ]
    }
   ],
   "source": [
    "query = 'SELECT AVG(loan_amnt), AVG(funded_amnt), AVG(int_rate), zip_code purpose FROM loans GROUP BY  zip_code LIMIT 10;'\n",
    "c.execute(query)\n",
    "rows = c.fetchall()\n",
    "pprint.pprint(rows)"
   ]
  },
  {
   "cell_type": "code",
   "execution_count": 171,
   "metadata": {},
   "outputs": [
    {
     "name": "stdout",
     "output_type": "stream",
     "text": [
      "[(None, None, None, None),\n",
      " (12913.953488372093, 12677.32558139535, 12.86093023255814, 'AK'),\n",
      " (11173.295454545454, 10913.27479338843, 11.963367768595019, 'AL'),\n",
      " (10369.827586206897, 10073.467432950192, 11.754367816091959, 'AR'),\n",
      " (10889.040728831726, 10600.16077170418, 12.332218649517625, 'AZ'),\n",
      " (11283.60142684076, 11007.023152510432, 12.219811549333953, 'CA'),\n",
      " (11190.985997666277, 10939.26487747958, 11.941948658109627, 'CO'),\n",
      " (11320.95588235294, 11075.674019607843, 12.026286764705823, 'CT'),\n",
      " (12329.575892857143, 11929.017857142857, 12.120937500000002, 'DC'),\n",
      " (10181.801470588236, 9995.220588235294, 12.522573529411773, 'DE'),\n",
      " (10597.857603092783, 10287.669136597939, 12.090186855670108, 'FL'),\n",
      " (11189.5874916833, 10900.083166999335, 12.04850964737192, 'GA'),\n",
      " (10817.265193370165, 10700.828729281768, 12.637734806629837, 'HI'),\n",
      " (8345.833333333334, 8239.583333333334, 12.135, 'IA'),\n",
      " (8038.888888888889, 8038.888888888889, 11.876666666666665, 'ID'),\n",
      " (11380.786483253589, 11148.370215311004, 12.27755382775119, 'IL'),\n",
      " (7582.894736842105, 7027.631578947368, 12.103684210526316, 'IN'),\n",
      " (10666.778523489933, 10498.657718120805, 11.967449664429527, 'KS'),\n",
      " (10850.278551532034, 10703.969359331477, 12.172061281337054, 'KY'),\n",
      " (10380.58568329718, 10122.017353579176, 11.818308026030351, 'LA'),\n",
      " (11244.297635605008, 11021.05354659249, 11.977712100139025, 'MA'),\n",
      " (11365.333333333334, 11108.777777777777, 12.591271111111052, 'MD'),\n",
      " (3066.6666666666665, 3066.6666666666665, 10.486666666666666, 'ME'),\n",
      " (10997.456030150754, 10697.047738693467, 12.182010050251215, 'MI'),\n",
      " (10394.900306748466, 10047.699386503067, 11.824815950920208, 'MN'),\n",
      " (10413.26797385621, 10168.986928104576, 11.964431372548969, 'MO'),\n",
      " (7325.0, 7061.538461538462, 12.390384615384617, 'MS'),\n",
      " (10496.09375, 10236.979166666666, 12.119166666666665, 'MT'),\n",
      " (11265.512048192772, 10948.855421686747, 12.108771084337311, 'NC'),\n",
      " (8086.363636363636, 8086.363636363636, 12.841818181818182, 'NE'),\n",
      " (11615.691489361701, 11314.095744680852, 11.816063829787234, 'NH'),\n",
      " (11614.097082494969, 11285.374748490945, 12.377635814889333, 'NJ'),\n",
      " (10410.487804878048, 9970.731707317073, 11.855170731707316, 'NM'),\n",
      " (10771.299810246679, 10527.846299810246, 12.621423149905073, 'NV'),\n",
      " (11161.469864698647, 10900.153751537515, 12.195756457564642, 'NY'),\n",
      " (10697.49811888638, 10511.136192626034, 12.232099322799057, 'OH'),\n",
      " (11228.154574132492, 11015.851735015773, 12.043123028391165, 'OK'),\n",
      " (10591.07905982906, 10248.130341880342, 12.02087606837605, 'OR'),\n",
      " (10500.34827377347, 10285.266505148395, 11.914736523319158, 'PA'),\n",
      " (9562.259615384615, 9180.16826923077, 12.03432692307692, 'RI'),\n",
      " (10895.092024539877, 10600.460122699387, 11.943701431492821, 'SC'),\n",
      " (9761.567164179105, 9563.432835820895, 11.535970149253734, 'SD'),\n",
      " (7904.6875, 6884.375, 11.903124999999998, 'TN'),\n",
      " (11578.77358490566, 11266.14065180103, 12.198000000000016, 'TX'),\n",
      " (11099.910071942446, 10827.158273381296, 12.174208633093519, 'UT'),\n",
      " (11479.236718224613, 11266.257565568258, 12.277565568258229, 'VA'),\n",
      " (9021.052631578947, 8759.649122807017, 11.298947368421057, 'VT'),\n",
      " (10893.158783783783, 10718.862612612613, 12.322668918918895, 'WA'),\n",
      " (11102.03488372093, 10851.114341085271, 12.189476744186022, 'WI'),\n",
      " (10701.336898395723, 10598.395721925133, 11.865454545454543, 'WV'),\n",
      " (11129.310344827587, 10952.298850574713, 12.618965517241387, 'WY')]\n"
     ]
    }
   ],
   "source": [
    "query = 'SELECT AVG(loan_amnt), AVG(funded_amnt), AVG(int_rate), addr_state purpose FROM loans GROUP BY  addr_state;'\n",
    "c.execute(query)\n",
    "rows = c.fetchall()\n",
    "pprint.pprint(rows)"
   ]
  },
  {
   "cell_type": "code",
   "execution_count": 186,
   "metadata": {},
   "outputs": [
    {
     "name": "stdout",
     "output_type": "stream",
     "text": [
      "[(6300.0, 6300.0, 7.827500000000001, 0),\n",
      " (11090.173050245703, 10822.01100373845, 12.1654235733923, 13350)]\n"
     ]
    }
   ],
   "source": [
    "query = '''SELECT AVG(loan_amnt), \n",
    "                AVG(funded_amnt), \n",
    "                AVG(int_rate),  \n",
    "                CASE WHEN annual_inc> 0 THEN 13350\n",
    "                    WHEN annual_inc> 13350 THEN 50800 \n",
    "                    WHEN annual_inc> 50800 THEN 131200\n",
    "                    WHEN annual_inc> 131200 THEN 212500\n",
    "                    WHEN annual_inc> 212500 THEN 416700\n",
    "                    WHEN annual_inc> 416700 THEN 6000000\n",
    "                ELSE 0 END as ai\n",
    "            FROM loans \n",
    "            GROUP BY  \n",
    "            ai;''' \n",
    "c.execute(query)\n",
    "rows = c.fetchall()\n",
    "pprint.pprint(rows)"
   ]
  },
  {
   "cell_type": "code",
   "execution_count": 188,
   "metadata": {},
   "outputs": [
    {
     "name": "stdout",
     "output_type": "stream",
     "text": [
      "[(None, None, None, 0, None),\n",
      " (6300.0, 6300.0, 7.827500000000001, 0, 'other'),\n",
      " (6760.3250773993805, 6699.195046439629, 10.651640866873032, 13350, 'car'),\n",
      " (11614.935183494614,\n",
      "  11335.311301807558,\n",
      "  11.84249406609478,\n",
      "  13350,\n",
      "  'credit_card'),\n",
      " (12559.509000809061,\n",
      "  12256.664644012944,\n",
      "  12.606084648058543,\n",
      "  13350,\n",
      "  'debt_consolidation'),\n",
      " (6626.54028436019,\n",
      "  6523.163507109005,\n",
      "  12.121540284360204,\n",
      "  13350,\n",
      "  'educational'),\n",
      " (11394.10753360425,\n",
      "  11080.751797436698,\n",
      "  11.596120662707088,\n",
      "  13350,\n",
      "  'home_improvement'),\n",
      " (12583.62676056338, 12260.269953051644, 12.411408450704217, 13350, 'house'),\n",
      " (8081.4041540458675,\n",
      "  7901.5577672003465,\n",
      "  11.013500649069677,\n",
      "  13350,\n",
      "  'major_purchase'),\n",
      " (8150.265604249668, 7991.334661354582, 11.683519256308063, 13350, 'medical'),\n",
      " (6594.912559618442, 6462.1621621621625, 11.752782193958632, 13350, 'moving'),\n",
      " (7940.782628364624, 7767.85795068989, 11.989726306265583, 13350, 'other'),\n",
      " (8630.896226415094,\n",
      "  8428.537735849057,\n",
      "  11.527924528301885,\n",
      "  13350,\n",
      "  'renewable_energy'),\n",
      " (13660.178212851406,\n",
      "  13136.244979919678,\n",
      "  13.159492971887573,\n",
      "  13350,\n",
      "  'small_business'),\n",
      " (5435.6875, 5355.8125, 10.951674999999998, 13350, 'vacation'),\n",
      " (9752.689243027888, 9631.424302788844, 12.033974103585608, 13350, 'wedding')]\n"
     ]
    }
   ],
   "source": [
    "query = '''SELECT AVG(loan_amnt), \n",
    "                AVG(funded_amnt), \n",
    "                AVG(int_rate),  \n",
    "                CASE WHEN annual_inc> 0 THEN 13350\n",
    "                    WHEN annual_inc> 13350 THEN 50800 \n",
    "                    WHEN annual_inc> 50800 THEN 131200\n",
    "                    WHEN annual_inc> 131200 THEN 212500\n",
    "                    WHEN annual_inc> 212500 THEN 416700\n",
    "                    WHEN annual_inc> 416700 THEN 6000000\n",
    "                ELSE 0 END as ai,\n",
    "                purpose\n",
    "            FROM loans \n",
    "            GROUP BY  \n",
    "            ai, purpose;''' \n",
    "c.execute(query)\n",
    "rows = c.fetchall()\n",
    "pprint.pprint(rows)"
   ]
  },
  {
   "cell_type": "code",
   "execution_count": 192,
   "metadata": {},
   "outputs": [
    {
     "name": "stdout",
     "output_type": "stream",
     "text": [
      "[(None, 0), ('n', 42535)]\n"
     ]
    }
   ],
   "source": [
    "query = 'SELECT pymnt_plan, COUNT(pymnt_plan) FROM loans GROUP BY pymnt_plan;'\n",
    "c.execute(query)\n",
    "rows = c.fetchall()\n",
    "pprint.pprint(rows)\n"
   ]
  },
  {
   "cell_type": "code",
   "execution_count": 194,
   "metadata": {},
   "outputs": [
    {
     "name": "stdout",
     "output_type": "stream",
     "text": [
      "[(None, 0), ('INDIVIDUAL', 42535)]\n"
     ]
    }
   ],
   "source": [
    "query = 'SELECT application_type, COUNT(application_type) FROM loans GROUP BY application_type;'\n",
    "c.execute(query)\n",
    "rows = c.fetchall()\n",
    "pprint.pprint(rows)"
   ]
  },
  {
   "cell_type": "code",
   "execution_count": 195,
   "metadata": {},
   "outputs": [
    {
     "name": "stdout",
     "output_type": "stream",
     "text": [
      "[(None, 0), ('INDIVIDUAL', 42535)]\n"
     ]
    }
   ],
   "source": [
    "query = 'SELECT application_type, COUNT(application_type) FROM loans GROUP BY application_type;'\n",
    "c.execute(query)\n",
    "rows = c.fetchall()\n",
    "pprint.pprint(rows)"
   ]
  },
  {
   "cell_type": "code",
   "execution_count": null,
   "metadata": {
    "collapsed": true
   },
   "outputs": [],
   "source": []
  },
  {
   "cell_type": "code",
   "execution_count": null,
   "metadata": {
    "collapsed": true
   },
   "outputs": [],
   "source": [
    "\n",
    "\n",
    "5. At what rate do Lending Club borrowers pay back loans?\n",
    "\n",
    "6. If a person was a part of the collection cycle, what is:\n",
    "    a. Their average payment of collection fees?\n",
    "    \n",
    "    b. the recovered amount with respect to the total loan?\n",
    "    \n",
    "    c. the percentage that would be a chargeoff case?\n",
    "7. Has a  borrower once been rejected, but then a"
   ]
  },
  {
   "cell_type": "markdown",
   "metadata": {},
   "source": [
    "### Rejected Loans"
   ]
  },
  {
   "cell_type": "code",
   "execution_count": 87,
   "metadata": {},
   "outputs": [
    {
     "data": {
      "text/plain": [
       "['Amount Requested',\n",
       " 'Application Date',\n",
       " 'Loan Title',\n",
       " 'Risk_Score',\n",
       " 'Debt-To-Income Ratio',\n",
       " 'Zip Code',\n",
       " 'State',\n",
       " 'Employment Length',\n",
       " 'Policy Code']"
      ]
     },
     "execution_count": 87,
     "metadata": {},
     "output_type": "execute_result"
    }
   ],
   "source": [
    "reject_cols = list(reject_data.columns)\n",
    "reject_cols"
   ]
  },
  {
   "cell_type": "code",
   "execution_count": 97,
   "metadata": {},
   "outputs": [
    {
     "name": "stderr",
     "output_type": "stream",
     "text": [
      "C:\\Anaconda3\\lib\\site-packages\\pandas\\core\\generic.py:1345: UserWarning: The spaces in these column names will not be changed. In pandas versions < 0.14, spaces were converted to underscores.\n",
      "  chunksize=chunksize, dtype=dtype)\n"
     ]
    }
   ],
   "source": [
    "reject_data.to_sql(name = \"reject_loans\",con = conn)"
   ]
  },
  {
   "cell_type": "code",
   "execution_count": 148,
   "metadata": {},
   "outputs": [
    {
     "name": "stdout",
     "output_type": "stream",
     "text": [
      "[(0, 'index', 'INTEGER', 0, None, 0),\n",
      " (1, 'Amount Requested', 'REAL', 0, None, 0),\n",
      " (2, 'Application Date', 'TEXT', 0, None, 0),\n",
      " (3, 'Loan Title', 'TEXT', 0, None, 0),\n",
      " (4, 'Risk_Score', 'REAL', 0, None, 0),\n",
      " (5, 'Debt-To-Income Ratio', 'TEXT', 0, None, 0),\n",
      " (6, 'Zip Code', 'TEXT', 0, None, 0),\n",
      " (7, 'State', 'TEXT', 0, None, 0),\n",
      " (8, 'Employment Length', 'TEXT', 0, None, 0),\n",
      " (9, 'Policy Code', 'INTEGER', 0, None, 0)]\n"
     ]
    }
   ],
   "source": [
    "query_practice2 = 'PRAGMA table_info(reject_loans)'\n",
    "c.execute(query_practice2)\n",
    "rows = c.fetchall()\n",
    "pprint.pprint(rows)"
   ]
  },
  {
   "cell_type": "code",
   "execution_count": null,
   "metadata": {
    "collapsed": true
   },
   "outputs": [],
   "source": []
  },
  {
   "cell_type": "code",
   "execution_count": null,
   "metadata": {
    "collapsed": true
   },
   "outputs": [],
   "source": []
  },
  {
   "cell_type": "code",
   "execution_count": null,
   "metadata": {
    "collapsed": true
   },
   "outputs": [],
   "source": []
  },
  {
   "cell_type": "code",
   "execution_count": null,
   "metadata": {
    "collapsed": true
   },
   "outputs": [],
   "source": []
  },
  {
   "cell_type": "code",
   "execution_count": null,
   "metadata": {
    "collapsed": true
   },
   "outputs": [],
   "source": []
  },
  {
   "cell_type": "code",
   "execution_count": null,
   "metadata": {
    "collapsed": true
   },
   "outputs": [],
   "source": [
    "conn.close()"
   ]
  },
  {
   "cell_type": "code",
   "execution_count": null,
   "metadata": {
    "collapsed": true
   },
   "outputs": [],
   "source": []
  },
  {
   "cell_type": "code",
   "execution_count": null,
   "metadata": {
    "collapsed": true
   },
   "outputs": [],
   "source": []
  },
  {
   "cell_type": "markdown",
   "metadata": {},
   "source": [
    "## Data Dictionary"
   ]
  },
  {
   "attachments": {
    "image.png": {
     "image/png": "[encoded data removed]"
    }
   },
   "cell_type": "markdown",
   "metadata": {},
   "source": [
    "### Admitted Loans\n",
    "\n",
    "1. acc_now_delinq\n",
    "\n",
    "2. acc_open_past_24mths\n",
    "\n",
    "3. addr_state\n",
    "\n",
    "4. all_util\n",
    "\n",
    "5. annual_inc\n",
    "\n",
    "6. annual_inc_joint\n",
    "\n",
    "7. application_type\n",
    "\n",
    "8. avg_cur_bal\n",
    "\n",
    "bc_open_to_buy\n",
    "\n",
    "bc_util\n",
    "\n",
    "chargeoff_within_12_mths\n",
    "\n",
    "collection_recovery_fee\n",
    "\n",
    "collections_12_mths_ex_med\n",
    "\n",
    "delinq_2yrs\n",
    "\n",
    "delinq_amnt\n",
    "desc\n",
    "\n",
    "dti\n",
    "dti_joint\n",
    "earliest_cr_line\n",
    "emp_length\n",
    "emp_title\n",
    "fico_range_high\n",
    "fico_range_low\n",
    "funded_amnt\n",
    "funded_amnt_inv\n",
    "grade\n",
    "home_ownership\n",
    "id\n",
    "il_util\n",
    "initial_list_status\n",
    "inq_fi\n",
    "inq_last_12m\n",
    "inq_last_6mths\n",
    "installment\n",
    "int_rate\n",
    "issue_d\n",
    "last_credit_pull_d\n",
    "last_fico_range_high\n",
    "last_fico_range_low\n",
    "last_pymnt_amnt\n",
    "last_pymnt_d\n",
    "loan_amnt\n",
    "loan_status\n",
    "max_bal_bc\n",
    "member_id\n",
    "mo_sin_old_il_acct\n",
    "mo_sin_old_rev_tl_op\n",
    "mo_sin_rcnt_rev_tl_op\n",
    "mo_sin_rcnt_tl\n",
    "mort_acc\n",
    "mths_since_last_delinq\n",
    "mths_since_last_major_derog\n",
    "mths_since_last_record\n",
    "mths_since_rcnt_il\n",
    "mths_since_recent_bc\n",
    "mths_since_recent_bc_dlq\n",
    "mths_since_recent_inq\n",
    "mths_since_recent_revol_delinq\n",
    "next_pymnt_d\n",
    "num_accts_ever_120_pd\n",
    "num_actv_bc_tl\n",
    "num_actv_rev_tl\n",
    "num_bc_sats\n",
    "num_bc_tl\n",
    "num_il_tl\n",
    "num_op_rev_tl\n",
    "num_rev_accts\n",
    "num_rev_tl_bal_gt_0\n",
    "num_sats\n",
    "num_tl_120dpd_2m\n",
    "num_tl_30dpd\n",
    "num_tl_90g_dpd_24m\n",
    "num_tl_op_past_12m\n",
    "open_acc\n",
    "open_acc_6m\n",
    "open_il_12m\n",
    "open_il_24m\n",
    "open_il_6m\n",
    "open_rv_12m\n",
    "open_rv_24m\n",
    "out_prncp\n",
    "out_prncp_inv\n",
    "pct_tl_nvr_dlq\n",
    "percent_bc_gt_75\n",
    "policy_code\n",
    "pub_rec\n",
    "pub_rec_bankruptcies\n",
    "purpose\n",
    "pymnt_plan\n",
    "recoveries\n",
    "revol_bal\n",
    "revol_util\n",
    "sub_grade\n",
    "tax_liens\n",
    "term\n",
    "title\n",
    "tot_coll_amt\n",
    "tot_cur_bal\n",
    "tot_hi_cred_lim\n",
    "total_acc\n",
    "total_bal_ex_mort\n",
    "total_bal_il\n",
    "total_bc_limit\n",
    "total_cu_tl\n",
    "total_il_high_credit_limit\n",
    "total_pymnt\n",
    "total_pymnt_inv\n",
    "total_rec_int\n",
    "total_rec_late_fee\n",
    "total_rec_prncp\n",
    "total_rev_hi_lim  \n",
    "url\n",
    "verification_status\n",
    "verified_status_joint\n",
    "zip_code\n",
    "revol_bal_joint \n",
    "sec_app_fico_range_low \n",
    "sec_app_fico_range_high \n",
    "sec_app_earliest_cr_line \n",
    "sec_app_inq_last_6mths \n",
    "sec_app_mort_acc \n",
    "sec_app_open_acc \n",
    "sec_app_revol_util \n",
    "sec_app_open_il_6m \n",
    "sec_app_num_rev_accts \n",
    "sec_app_chargeoff_within_12_mths \n",
    "sec_app_collections_12_mths_ex_med \n",
    "sec_app_mths_since_last_major_derog \n",
    "![image.png](attachment:image.png)"
   ]
  },
  {
   "cell_type": "code",
   "execution_count": 142,
   "metadata": {},
   "outputs": [],
   "source": [
    "dd_loan = pd.read_excel('Data/LCDataDictionary.xlsx', sheetname = 0, skiprows=0)"
   ]
  },
  {
   "cell_type": "code",
   "execution_count": 143,
   "metadata": {},
   "outputs": [
    {
     "data": {
      "text/plain": [
       "0                            acc_now_delinq\n",
       "1                      acc_open_past_24mths\n",
       "2                                addr_state\n",
       "3                                  all_util\n",
       "4                                annual_inc\n",
       "5                          annual_inc_joint\n",
       "6                          application_type\n",
       "7                               avg_cur_bal\n",
       "8                            bc_open_to_buy\n",
       "9                                   bc_util\n",
       "10                 chargeoff_within_12_mths\n",
       "11                  collection_recovery_fee\n",
       "12               collections_12_mths_ex_med\n",
       "13                              delinq_2yrs\n",
       "14                              delinq_amnt\n",
       "15                                     desc\n",
       "16                                      dti\n",
       "17                                dti_joint\n",
       "18                         earliest_cr_line\n",
       "19                               emp_length\n",
       "20                                emp_title\n",
       "21                          fico_range_high\n",
       "22                           fico_range_low\n",
       "23                              funded_amnt\n",
       "24                          funded_amnt_inv\n",
       "25                                    grade\n",
       "26                           home_ownership\n",
       "27                                       id\n",
       "28                                  il_util\n",
       "29                      initial_list_status\n",
       "                       ...                 \n",
       "100                       total_bal_ex_mort\n",
       "101                            total_bal_il\n",
       "102                          total_bc_limit\n",
       "103                             total_cu_tl\n",
       "104              total_il_high_credit_limit\n",
       "105                             total_pymnt\n",
       "106                         total_pymnt_inv\n",
       "107                           total_rec_int\n",
       "108                      total_rec_late_fee\n",
       "109                         total_rec_prncp\n",
       "110                      total_rev_hi_lim  \n",
       "111                                     url\n",
       "112                     verification_status\n",
       "113                   verified_status_joint\n",
       "114                                zip_code\n",
       "115                        revol_bal_joint \n",
       "116                 sec_app_fico_range_low \n",
       "117                sec_app_fico_range_high \n",
       "118               sec_app_earliest_cr_line \n",
       "119                 sec_app_inq_last_6mths \n",
       "120                       sec_app_mort_acc \n",
       "121                       sec_app_open_acc \n",
       "122                     sec_app_revol_util \n",
       "123                     sec_app_open_il_6m \n",
       "124                  sec_app_num_rev_accts \n",
       "125       sec_app_chargeoff_within_12_mths \n",
       "126     sec_app_collections_12_mths_ex_med \n",
       "127    sec_app_mths_since_last_major_derog \n",
       "128                                     NaN\n",
       "129                                     NaN\n",
       "Name: LoanStatNew, Length: 130, dtype: object"
      ]
     },
     "execution_count": 143,
     "metadata": {},
     "output_type": "execute_result"
    }
   ],
   "source": [
    "dd_loan[\"LoanStatNew\"]"
   ]
  },
  {
   "cell_type": "code",
   "execution_count": 140,
   "metadata": {
    "collapsed": true
   },
   "outputs": [],
   "source": [
    "dd_reject = pd.read_excel('Data/LCDataDictionary.xlsx', sheetname = 2)"
   ]
  },
  {
   "cell_type": "code",
   "execution_count": 144,
   "metadata": {},
   "outputs": [
    {
     "data": {
      "text/plain": [
       "0        Amount Requested\n",
       "1        Application Date\n",
       "2              Loan Title\n",
       "3              Risk_Score\n",
       "4    Debt-To-Income Ratio\n",
       "5                Zip Code\n",
       "6                   State\n",
       "7       Employment Length\n",
       "8             Policy Code\n",
       "Name: RejectStats File, dtype: object"
      ]
     },
     "execution_count": 144,
     "metadata": {},
     "output_type": "execute_result"
    }
   ],
   "source": [
    "dd_reject[\"RejectStats File\"]"
   ]
  },
  {
   "cell_type": "markdown",
   "metadata": {},
   "source": [
    "## Resources"
   ]
  },
  {
   "cell_type": "markdown",
   "metadata": {},
   "source": [
    "**Data & Company of data**\n",
    "\n",
    "1. [Lending Club Data](https://www.lendingclub.com/info/download-data.action)\n",
    "\n",
    "2. [About Lending Club](https://www.lendingclub.com/)\n",
    "\n",
    "    a. [Wiki Lending Club](https://en.wikipedia.org/wiki/Lending_Club)\n",
    "    \n",
    "3. [Tax Brackets](https://taxfoundation.org/2017-tax-brackets/)\n",
    "\n",
    "**SQL**\n",
    "1. ['Case When' lazy logic'](https://dba.stackexchange.com/questions/43352/does-sql-server-case-statement-evaluate-all-conditions-or-exit-on-first-true-con)"
   ]
  },
  {
   "cell_type": "code",
   "execution_count": null,
   "metadata": {
    "collapsed": true
   },
   "outputs": [],
   "source": []
  }
 ],
 "metadata": {
  "anaconda-cloud": {},
  "kernelspec": {
   "display_name": "Python [conda root]",
   "language": "python",
   "name": "conda-root-py"
  },
  "language_info": {
   "codemirror_mode": {
    "name": "ipython",
    "version": 3
   },
   "file_extension": ".py",
   "mimetype": "text/x-python",
   "name": "python",
   "nbconvert_exporter": "python",
   "pygments_lexer": "ipython3",
   "version": "3.5.3"
  }
 },
 "nbformat": 4,
 "nbformat_minor": 2
}
