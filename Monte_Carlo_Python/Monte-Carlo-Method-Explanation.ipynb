{
 "cells": [
  {
   "cell_type": "markdown",
   "metadata": {},
   "source": [
    "# Black Scholes and Monte Carlo Simulation\n",
    "by Raul Maldonado\n",
    "____\n",
    "## Table of Contents\n",
    "\n",
    "1. Concepts and Procedure\n",
    "\n",
    "    a. European Option Example\n",
    "    \n",
    "        i. Background\n",
    "        \n",
    "        ii. Concept\n",
    "        \n",
    "        iii. Calculation\n",
    "    b. Monte Carlo Simulation Example\n",
    "        \n",
    "        i. Background\n",
    "        \n",
    "        ii. Feature Selection\n",
    "        \n",
    "        iii. Monte Carlo Method Example\n",
    "        \n",
    "3. Resources"
   ]
  },
  {
   "cell_type": "markdown",
   "metadata": {},
   "source": [
    "## Concepts and Procedure\n",
    "\n",
    "### Example One [3]\n",
    "\n",
    "#### Background\n",
    "**Monte Carlo Method** of credit portfolios is a probabilistic computation method typically used for the calculation of Credit Value at Risk and economic capital for credit portfolios. We approximate the loss distribution and estiamte various risk measures for credit portfolio. \n",
    "\n",
    "#### Concept\n",
    "\n",
    "We create a Monte Carlo simulation of the valuation of a European call option. We consider the Black Scholes Model.\n",
    "\n",
    "Suppose we have the following _parameters values_ for the valuation:\n",
    "\n",
    "- Initial stock index level $S_0 = 100$\n",
    "- Strike price of the European call option $K=105$\n",
    "- Time to maturity T = 1 year\n",
    "- Systematic risk $r= 5$%\n",
    "- Constant volatility $\\sigma = 20$%\n",
    "\n",
    "In the BSM model, the index level at maturity is a random variable, given by Equation 1-1 with z being a standard normally distributed random variable.\n",
    "\n",
    "$$S_T = S_0 \\exp{( (r - \\dfrac{1}{2} \\sigma^2)T + \\sigma \\sqrt{T} z    )}$$\n",
    "\n",
    "The following is an algorithmic description of the Monte Carlo procedure:\n",
    "\n",
    "1. Draw I (psuedo) random numbers $z(i), i \\in \\{1,2,...,I\\}$, from the standard normal distribution\n",
    "2. Calculate all resulting index levels at maturity $S_T{(i)}$ for given $z(i)$ and the Black Scholes Model $S_T = S_0 \\exp{( (r - \\dfrac{1}{2} \\sigma^2)T + \\sigma \\sqrt{T} z    )}$\n",
    "\n",
    "3. Calculate all inner values of the option at maturity as $h_T (i) = \\max{(S_T (i) K,0)}$ \n",
    "4. Estimate the option present value via Monte Carlo estimator below:\n",
    "\n",
    "$$ C_0 = e^{-rT} \\dfrac{1}{I} \\underset{I}{\\sum}{{h_T (i)}}$$\n",
    "\n",
    "\n",
    "where:\n",
    "\n",
    "- $S_t$ is the spot price of the underlying asset\n",
    "\n",
    "- $S_0$ initial stock index\n",
    "\n",
    "- $k$ is the strike price\n",
    "\n",
    "- $h_T (i)$ is our option at maturity\n",
    "\n",
    "#### Calculation"
   ]
  },
  {
   "cell_type": "code",
   "execution_count": 13,
   "metadata": {
    "collapsed": true
   },
   "outputs": [],
   "source": [
    "import numpy as np\n",
    "import random\n",
    "import math"
   ]
  },
  {
   "cell_type": "code",
   "execution_count": 1,
   "metadata": {
    "collapsed": true
   },
   "outputs": [],
   "source": [
    "S0 = 100 # Intial stock index level\n",
    "K = 105 # strike price\n",
    "T = 1.0 # Time T (by years)\n",
    "r = 0.05 # systematic risk\n",
    "sigma = 0.2 #volatility"
   ]
  },
  {
   "cell_type": "markdown",
   "metadata": {},
   "source": [
    "Import libraries and declare variables"
   ]
  },
  {
   "cell_type": "code",
   "execution_count": 24,
   "metadata": {},
   "outputs": [],
   "source": [
    "sim = 100000 # number of simulations\n",
    "\n",
    "\n",
    "z = np.random.standard_normal(sim) \n",
    "# attain array of random numbers around \n",
    "# the standard normal"
   ]
  },
  {
   "cell_type": "markdown",
   "metadata": {},
   "source": [
    "Draw I (psuedo) random numbers $z(i), i \\in \\{1,2,...,I\\}$, from the standard normal distribution"
   ]
  },
  {
   "cell_type": "code",
   "execution_count": 25,
   "metadata": {
    "collapsed": true
   },
   "outputs": [],
   "source": [
    "ST = S0 * np.exp((r - 0.5 * (sigma)**(2)) * T \n",
    "                 + sigma * np.sqrt(T) * z) \n",
    "#index values at maturity"
   ]
  },
  {
   "cell_type": "markdown",
   "metadata": {},
   "source": [
    "Calculate all resulting index levels at maturity $S_T{(i)}$ for given $z(i)$ and the Black Scholes Model"
   ]
  },
  {
   "cell_type": "code",
   "execution_count": 26,
   "metadata": {
    "collapsed": true
   },
   "outputs": [],
   "source": [
    "hT = np.maximum(ST - K, 0)\n",
    "# inner values at maturity\n"
   ]
  },
  {
   "cell_type": "markdown",
   "metadata": {},
   "source": [
    " Calculate all inner values of the option at maturity"
   ]
  },
  {
   "cell_type": "code",
   "execution_count": 27,
   "metadata": {
    "collapsed": true
   },
   "outputs": [],
   "source": [
    "C0 = np.exp(-r * T) * sum(hT) / sim\n",
    "\n",
    "# monte carlo simulation"
   ]
  },
  {
   "cell_type": "markdown",
   "metadata": {},
   "source": [
    "Estimate option present value"
   ]
  },
  {
   "cell_type": "code",
   "execution_count": 29,
   "metadata": {},
   "outputs": [
    {
     "name": "stdout",
     "output_type": "stream",
     "text": [
      "Value of the European Call Option 7.987\n"
     ]
    }
   ],
   "source": [
    "print(\"Value of the European Call Option %5.3f\" % C0)"
   ]
  },
  {
   "cell_type": "markdown",
   "metadata": {},
   "source": [
    "### Monte Carlo Method Example 2 [4]\n",
    "\n",
    "#### Background\n",
    "Systematic risk can be captured with liquidity index and specific risk can be modeled in regression models. Investment firms are required to hold capital to ensure solvency. The amount of capital that must be held is often calculated by risk models.\n",
    "\n",
    "We validate risk models can be back-tested for goodness of fit using regression. The price-forecasting regression model can fail to capture the true market volatility. In this situation, we implement the regression model for the number of back-testing exceptions over a time-period $$ I_t = \\beta_0 + \\beta_1 X_{1,t-1} + ...+ \\beta_k X_{k,t-1} + \\epsilon_t$$\n",
    "\n",
    "where $I_t$ is the total exceptions at time $t$, $\\beta_0$ is a small acceptable number of exceptions at some confidence level, and betas are the weighted market volatility indices.\n",
    "\n",
    "The back test would begin with a null hypothesis $H_0: \\beta_1 = \\beta_2 =... = \\beta_k = 0$, and an alternative test to suppoort or reject it.\n",
    "\n",
    "#### Features Selection\n",
    "\n",
    "Features Selection is an important part of predictive modeling. Features compression is often done using Principle Component Analysis (PCA). \n",
    "\n",
    "An investment portfolio of bonds with future cash flows is sensitive to changes in interest rates for different maturities. If we desire to estimate portfolio risk using a smaller number of factors, we can use PCA. By performing CPA on historical interest rate moves for set of maturities, we can select top first $n$ factors explaining most of variation in data, where PCA is performed using a covariance matrix of short rate moves.\n",
    "\n",
    "> We have been quoting [4] heavily, but here is somethign important to the following section:\n",
    "\n",
    ">\"One popular method for computing the value-at-risk is through revaluation of a portfolio under a set of moves in price and volatility. When dealing with derivatives that are so-called ‘path dependent’ (e.g. Asian options) one needs to consider entire volatility term structure as opposed to a volatility at a single tenor. However, applying moves to all volatilities is computationally expensive. One solution is to use the output of PCA to reduce the term-structure.\"\n",
    "\n",
    "#### Monte Carlo Method Example\n",
    "\n",
    "Reminding ourselves, Monte Carlo Method is used extensively in quantitative finance. The dynamics of a Monte Carlo Simultation is assumed to follow stochastic process, like **Geometric Brownian Motion**. \n",
    "\n",
    "The simulated prices become inputs into a payoff function, and the avg(discounted payoff) determines the price of derivative."
   ]
  },
  {
   "cell_type": "code",
   "execution_count": 34,
   "metadata": {},
   "outputs": [],
   "source": [
    "import numpy as np\n",
    "from scipy.stats import norm\n",
    "\n",
    "r = 0.01       #risk -free rate\n",
    "sigma = 0.05   # volatility\n",
    "K = 18.0       # Strike Price (K)\n",
    "S0 = 18.0      # Intiial Stock value at time t=0\n",
    "T = 10 # Time till maturity"
   ]
  },
  {
   "cell_type": "markdown",
   "metadata": {},
   "source": [
    "Import libraries and establish variables"
   ]
  },
  {
   "cell_type": "code",
   "execution_count": 35,
   "metadata": {
    "collapsed": true
   },
   "outputs": [],
   "source": [
    "# Black Scholes Model Implementation\n",
    "\n",
    "disc = np.exp(- r* T)     #Discounting: e^(-rt)\n",
    "vol = sigma * np.sqrt(T)  # time-scaled volatility (sigma * sqrt(T))\n",
    "\n",
    "d1 = ((np.log(S0/K)) + ((r + 0.5 * sigma**2) *T)) / vol\n",
    "d2 = d1 - vol\n",
    "\n",
    "black_scholes_call_price = S0 * norm.cdf(d1) - disc * K * norm. cdf(d2)\n"
   ]
  },
  {
   "cell_type": "markdown",
   "metadata": {},
   "source": [
    "$$\\text{Black Scholes Model}: C = S_0 N(d_1) - K e^{-rt} N(d_2)$$\n",
    "\n",
    "Above, we implement the Black Scholes Model for future comparison with that of the Monte Carlo Method. "
   ]
  },
  {
   "cell_type": "code",
   "execution_count": 36,
   "metadata": {
    "collapsed": true
   },
   "outputs": [],
   "source": [
    "# Simulation\n",
    "N = 10000000      #Number of simulations\n",
    "np.random.seed(0)\n",
    "rands = np.random.normal(size = N)"
   ]
  },
  {
   "cell_type": "markdown",
   "metadata": {},
   "source": [
    "Intiate standard distribution of random normal distribution numbers"
   ]
  },
  {
   "cell_type": "code",
   "execution_count": 41,
   "metadata": {
    "collapsed": true
   },
   "outputs": [],
   "source": [
    "ST = S0 * np.exp((r- 0.5 * sigma**2) *T + vol * rands)\n",
    "payoff = np.multiply ([p if p >0 else 0 for p in ST-K], disc)\n",
    "MCprice = np.mean(payoff, axis = 0)"
   ]
  },
  {
   "cell_type": "markdown",
   "metadata": {},
   "source": [
    "$$C = S_0 e^{r - \\dfrac{\\sigma^2}{2}T + \\sigma \\sqrt{T} w_t}$$\n",
    "Above is the implemenation of Monte Carlo Simulation\n",
    "\n",
    "where $\\dfrac{\\sigma^2}{2}T$ is our drift and random stochiastic process is $ \\sigma \\sqrt{T} w_t$"
   ]
  },
  {
   "cell_type": "code",
   "execution_count": 38,
   "metadata": {},
   "outputs": [
    {
     "name": "stdout",
     "output_type": "stream",
     "text": [
      "Option price with BS and MC are : 2.145200 and 2.145654\n"
     ]
    }
   ],
   "source": [
    "print(\"Option price with BS and MC are : %f and %f\" % (black_scholes_call_price, MCprice))"
   ]
  },
  {
   "cell_type": "markdown",
   "metadata": {},
   "source": [
    "We observe a close margin of predicting some call price $C = 0.000454$ between the Black Schole model and the Monte Carlo Simulation"
   ]
  },
  {
   "cell_type": "markdown",
   "metadata": {},
   "source": [
    "## Resources\n",
    "\n",
    "### Document Resources\n",
    "1. [Black Scholes Model](https://en.wikipedia.org/wiki/Black%E2%80%93Scholes_model)\n",
    "\n",
    "2. [Monte Carlo Simulation](http://www.maths-in-industry.org/miis/172/1/algorithmics.pdf)\n",
    "\n",
    "    a. [Understanding Monte Carlo Simulation](https://www.youtube.com/watch?v=3gcLRU24-w0)\n",
    "    \n",
    "3. [Monte Carlo Example, from above](https://www.safaribooksonline.com/library/view/python-for-finance/9781491945360/ch03.html)\n",
    "\n",
    "4. [Advanced Monte Carlo simulation example](http://www.kdnuggets.com/2016/12/data-analytics-models-quantitative-finance-risk-management.html)\n",
    "\n",
    "### Additional Readings\n",
    "\n",
    "1. [Counter Party Credit Risk book that I want to read](http://radoudoux.free.fr/last2/jGregoryCPTY%20Risk.pdf)"
   ]
  },
  {
   "cell_type": "markdown",
   "metadata": {},
   "source": [
    "Hopefully you enjoyed my quick summarization of the Monte Carlo Method!\n",
    "\n",
    "Thank you for reading!"
   ]
  }
 ],
 "metadata": {
  "anaconda-cloud": {},
  "kernelspec": {
   "display_name": "Python [conda root]",
   "language": "python",
   "name": "conda-root-py"
  },
  "language_info": {
   "codemirror_mode": {
    "name": "ipython",
    "version": 3
   },
   "file_extension": ".py",
   "mimetype": "text/x-python",
   "name": "python",
   "nbconvert_exporter": "python",
   "pygments_lexer": "ipython3",
   "version": "3.5.3"
  }
 },
 "nbformat": 4,
 "nbformat_minor": 2
}
